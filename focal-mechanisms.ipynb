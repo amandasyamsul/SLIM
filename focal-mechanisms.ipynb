{
 "cells": [
  {
   "cell_type": "markdown",
   "id": "df23c79a",
   "metadata": {},
   "source": [
    "## Analysis on Focal Mechanisms of SLIQs"
   ]
  },
  {
   "cell_type": "code",
   "execution_count": 1,
   "id": "1d217641",
   "metadata": {},
   "outputs": [],
   "source": [
    "import pandas as pd\n",
    "import matplotlib.pyplot as plt\n",
    "import numpy as np\n",
    "import scipy.stats as stats\n",
    "import os\n",
    "import importlib\n",
    "\n",
    "# stdlib imports\n",
    "from datetime import datetime, timedelta\n",
    "\n",
    "# Third party imports\n",
    "import matplotlib.pyplot as plt\n",
    "\n",
    "# Local imports\n",
    "from libcomcat.search import count, get_event_by_id, search\n",
    "from libcomcat.dataframes import get_detail_data_frame"
   ]
  },
  {
   "cell_type": "markdown",
   "id": "9c80506c",
   "metadata": {},
   "source": [
    "In this notebook, we are only analyzing the focal mechanisms of ETAS declustered events with a CP > 1.76 (upper quartile of distribution)."
   ]
  },
  {
   "cell_type": "code",
   "execution_count": 2,
   "id": "09ab9099",
   "metadata": {},
   "outputs": [],
   "source": [
    "catalog=pd.read_csv('etas_declustered.csv')\n",
    "\n",
    "catalog=catalog[catalog.cp > 1.76]\n",
    "catalog=catalog.sort_values('cp',ascending=False)\n",
    "catalog=catalog.reset_index()\n",
    "catalog=catalog.drop(['index'], axis=1)\n",
    "catalog['dmass']=catalog['dmass'].astype(float)"
   ]
  },
  {
   "cell_type": "code",
   "execution_count": 3,
   "id": "85886ef6",
   "metadata": {},
   "outputs": [
    {
     "data": {
      "text/plain": [
       "'2003-07-26 23:18:17.960'"
      ]
     },
     "execution_count": 3,
     "metadata": {},
     "output_type": "execute_result"
    }
   ],
   "source": [
    "times=catalog.time\n",
    "times.to_frame()\n",
    "times[1]"
   ]
  },
  {
   "cell_type": "code",
   "execution_count": 4,
   "id": "4034997b",
   "metadata": {},
   "outputs": [],
   "source": [
    "# detail.keys()"
   ]
  },
  {
   "cell_type": "code",
   "execution_count": 5,
   "id": "ff2d4bfd",
   "metadata": {},
   "outputs": [],
   "source": [
    "rakes1 = []\n",
    "rakes2 = []\n",
    "dips1 = []\n",
    "dips2 = []\n",
    "\n",
    "sliq_times = []\n",
    "\n",
    "for i in range(49):\n",
    "    utc_t=datetime.strptime(times[i],'%Y-%m-%d %H:%M:%S.%f')\n",
    "    sliq_times.append(utc_t)\n",
    "    this_earthquake =search(starttime=sliq_times[i]-timedelta(seconds=1), endtime=sliq_times[i]+timedelta(seconds=1))\n",
    "    \n",
    "    # Rake from nodal plane 1\n",
    "    if len(this_earthquake) > 0:\n",
    "        detail=get_detail_data_frame(this_earthquake)\n",
    "        if 'us_Mww_np1_rake' in detail.keys():\n",
    "            rake1 = np.array(detail.us_Mww_np1_rake)[-1]\n",
    "#             print (rake1)\n",
    "        else:\n",
    "            rake1 = np.nan\n",
    "#             print('No MT')\n",
    "    else:\n",
    "        rake1 = np.nan\n",
    "#         print('No EQ')\n",
    "\n",
    "    # Dip from nodal plane 1\n",
    "    if len(this_earthquake) > 0:\n",
    "        detail=get_detail_data_frame(this_earthquake)\n",
    "        if 'us_Mww_np1_dip' in detail.keys():\n",
    "            dip1 = np.array(detail.us_Mww_np1_dip)[-1]\n",
    "#             print (dip1)\n",
    "        else:\n",
    "            dip1 = np.nan\n",
    "#             print('No dip')\n",
    "    else:\n",
    "        dip1 = np.nan\n",
    "#         print('No EQ')\n",
    "\n",
    "\n",
    "    # Rake from nodal plane 2\n",
    "    if len(this_earthquake) > 0:\n",
    "        detail=get_detail_data_frame(this_earthquake)\n",
    "        if 'us_Mww_np2_rake' in detail.keys():\n",
    "            rake2 = np.array(detail.us_Mww_np2_rake)[-1]\n",
    "#             print (rake2)\n",
    "        else:\n",
    "            rake2 = np.nan\n",
    "#             print('No MT')\n",
    "    else:\n",
    "        rake2 = np.nan\n",
    "#         print('No EQ')\n",
    "\n",
    "    # Dip from nodal plane 2\n",
    "    if len(this_earthquake) > 0:\n",
    "        detail=get_detail_data_frame(this_earthquake)\n",
    "        if 'us_Mww_np2_dip' in detail.keys():\n",
    "            dip2 = np.array(detail.us_Mww_np2_dip)[-1]\n",
    "#             print (dip2)\n",
    "        else:\n",
    "            dip2 = np.nan\n",
    "#             print('No dip')\n",
    "    else:\n",
    "        dip2 = np.nan\n",
    "#         print('No EQ')\n",
    "\n",
    "        \n",
    "    rakes1.append(rake1)\n",
    "    dips1.append(dip1)\n",
    "    rakes2.append(rake2)\n",
    "    dips2.append(dip2)"
   ]
  },
  {
   "cell_type": "code",
   "execution_count": 6,
   "id": "423c3f70",
   "metadata": {},
   "outputs": [],
   "source": [
    "catalog['us_Mww_np1_rake'] = rakes1\n",
    "catalog['us_Mww_np2_rake'] = rakes2\n",
    "catalog['us_Mww_np1_dip'] = dips1\n",
    "catalog['us_Mww_np2_dip'] = dips2"
   ]
  },
  {
   "cell_type": "markdown",
   "id": "105a4297",
   "metadata": {},
   "source": [
    "## I. Correlation between rake and surface load\n",
    "\n",
    "### Rake values:\n",
    "- 90° for a pure reverse fault\n",
    "- -90° for a pure normal fault\n",
    "- 0° for a left-lateral strike-slip fault\n",
    "- 180° (or -180°) for a right-lateral strike-slip fault\n"
   ]
  },
  {
   "cell_type": "code",
   "execution_count": 7,
   "id": "03df2151",
   "metadata": {},
   "outputs": [
    {
     "data": {
      "image/png": "[encoded data removed]",
      "text/plain": [
       "<Figure size 432x432 with 3 Axes>"
      ]
     },
     "metadata": {
      "needs_background": "light"
     },
     "output_type": "display_data"
    },
    {
     "data": {
      "image/png": "[encoded data removed]",
      "text/plain": [
       "<Figure size 432x432 with 3 Axes>"
      ]
     },
     "metadata": {
      "needs_background": "light"
     },
     "output_type": "display_data"
    }
   ],
   "source": [
    "# library & dataset\n",
    "import seaborn as sns\n",
    "import matplotlib.pyplot as plt\n",
    " \n",
    "# Custom the inside plot: options are: “scatter” | “reg” | “resid” | “kde” | “hex”\n",
    "ax=sns.jointplot(x=catalog.dmass, y=catalog.us_Mww_np1_rake, kind='scatter',marginal_kws=dict(bins=15, fill=True))\n",
    "ax=sns.jointplot(x=catalog.dmass, y=catalog.us_Mww_np2_rake, kind='scatter',marginal_kws=dict(bins=15, fill=True))\n",
    "\n",
    "plt.show()"
   ]
  },
  {
   "cell_type": "markdown",
   "id": "99c318cf",
   "metadata": {},
   "source": [
    "## II. Correlation between surface load and dip angle"
   ]
  },
  {
   "cell_type": "code",
   "execution_count": 8,
   "id": "2e553dba",
   "metadata": {},
   "outputs": [
    {
     "data": {
      "text/plain": [
       "Text(0.5, 1.0, 'Correlation between surface load and dip angle')"
      ]
     },
     "execution_count": 8,
     "metadata": {},
     "output_type": "execute_result"
    },
    {
     "data": {
      "image/png": "[encoded data removed]",
      "text/plain": [
       "<Figure size 720x360 with 1 Axes>"
      ]
     },
     "metadata": {
      "needs_background": "light"
     },
     "output_type": "display_data"
    }
   ],
   "source": [
    "fig,ax = plt.subplots(figsize=(10,5))\n",
    "\n",
    "plot1 = ax.scatter(catalog.dmass, catalog.us_Mww_np1_dip, alpha=0.5, c='#A2142F',label='Nodal plane 1')\n",
    "plot2 = ax.scatter(catalog.dmass, catalog.us_Mww_np2_dip, alpha=0.5, c='#77AC30',label='Nodal plane 2')\n",
    "ax.legend(handles=[plot1, plot2])\n",
    "# ax.axhline(y=0,c='k')\n",
    "# ax.axvline(x=0,c='k') \n",
    "ax.set_xlim([-50,50])\n",
    "ax.set_xlabel('Surface load (cm-we)', fontsize = 17)\n",
    "ax.set_ylabel(\"Dip angle (\\N{DEGREE SIGN})\", fontsize = 17)\n",
    "ax.set_title(\"Correlation between surface load and dip angle\", fontsize = 17)"
   ]
  },
  {
   "cell_type": "markdown",
   "id": "8db59689",
   "metadata": {},
   "source": [
    "### Angle = rake values\n",
    "### Outside circle: + load\n",
    "### Inside circle: - load"
   ]
  },
  {
   "cell_type": "code",
   "execution_count": 9,
   "id": "a8411abb",
   "metadata": {},
   "outputs": [
    {
     "data": {
      "image/png": "[encoded data removed]",
      "text/plain": [
       "<Figure size 360x360 with 1 Axes>"
      ]
     },
     "metadata": {
      "needs_background": "light"
     },
     "output_type": "display_data"
    }
   ],
   "source": [
    "theta=catalog.us_Mww_np1_rake\n",
    "R=1+(catalog.dmass/np.max(np.abs(catalog.dmass)))\n",
    "theta2=np.linspace(0,2*np.pi,100)\n",
    "\n",
    "fig, ax = plt.subplots(figsize=[5,5])\n",
    "ax.scatter(R*np.cos(theta), R*np.sin(theta),c=catalog.us_Mww_np1_dip,cmap='Greens_r')\n",
    "ax.plot(np.cos(theta2),np.sin(theta2))\n",
    "ax.set_xlim(-2,2)\n",
    "ax.set_ylim(-2,2)\n",
    "ax.grid()\n",
    "\n",
    "# colored by dip"
   ]
  },
  {
   "cell_type": "markdown",
   "id": "cba5e0db",
   "metadata": {},
   "source": [
    "## III. Understanding the relationship between focal mechanisms and surface load using statistics:"
   ]
  },
  {
   "cell_type": "markdown",
   "id": "8aa9ff39",
   "metadata": {},
   "source": [
    "### (a) F-test"
   ]
  },
  {
   "cell_type": "code",
   "execution_count": 10,
   "id": "362042a2",
   "metadata": {},
   "outputs": [
    {
     "data": {
      "text/plain": [
       "F_onewayResult(statistic=nan, pvalue=nan)"
      ]
     },
     "execution_count": 10,
     "metadata": {},
     "output_type": "execute_result"
    }
   ],
   "source": [
    "from scipy.stats import f_oneway\n",
    "\n",
    "f_oneway(catalog.dmass[catalog.us_Mww_np1_rake<0],catalog.dmass[catalog.us_Mww_np1_rake>0])\n",
    "f_oneway(catalog.us_Mww_np1_rake[catalog.dmass<0],catalog.us_Mww_np1_rake[catalog.dmass>0])"
   ]
  },
  {
   "cell_type": "code",
   "execution_count": 11,
   "id": "e8b95c65",
   "metadata": {},
   "outputs": [
    {
     "data": {
      "text/plain": [
       "24"
      ]
     },
     "execution_count": 11,
     "metadata": {},
     "output_type": "execute_result"
    }
   ],
   "source": [
    "sum(np.isnan(catalog.us_Mww_np1_rake))"
   ]
  },
  {
   "cell_type": "markdown",
   "id": "dbc766c4",
   "metadata": {},
   "source": [
    "### (b) Chi-squared test:\n",
    "\n",
    "- Low value for the chi statistic: high correlation between your two sets of data. \n",
    "- P-value > [value], accept null hypothesis (no relationship between categorical variables; they are independent)\n",
    "- In theory, if your observed and expected values were equal then the chi statistic would be 0"
   ]
  },
  {
   "cell_type": "code",
   "execution_count": 12,
   "id": "2f57f14e",
   "metadata": {},
   "outputs": [
    {
     "data": {
      "text/html": [
       "<div>\n",
       "<style scoped>\n",
       "    .dataframe tbody tr th:only-of-type {\n",
       "        vertical-align: middle;\n",
       "    }\n",
       "\n",
       "    .dataframe tbody tr th {\n",
       "        vertical-align: top;\n",
       "    }\n",
       "\n",
       "    .dataframe thead th {\n",
       "        text-align: right;\n",
       "    }\n",
       "</style>\n",
       "<table border=\"1\" class=\"dataframe\">\n",
       "  <thead>\n",
       "    <tr style=\"text-align: right;\">\n",
       "      <th></th>\n",
       "      <th></th>\n",
       "      <th>+ rake</th>\n",
       "      <th>- rake</th>\n",
       "    </tr>\n",
       "  </thead>\n",
       "  <tbody>\n",
       "    <tr>\n",
       "      <th>0</th>\n",
       "      <td>+ load</td>\n",
       "      <td>6</td>\n",
       "      <td>2</td>\n",
       "    </tr>\n",
       "    <tr>\n",
       "      <th>1</th>\n",
       "      <td>- load</td>\n",
       "      <td>9</td>\n",
       "      <td>8</td>\n",
       "    </tr>\n",
       "  </tbody>\n",
       "</table>\n",
       "</div>"
      ],
      "text/plain": [
       "          + rake - rake\n",
       "0  + load      6      2\n",
       "1  - load      9      8"
      ]
     },
     "execution_count": 12,
     "metadata": {},
     "output_type": "execute_result"
    }
   ],
   "source": [
    "from scipy.stats import chi2_contingency\n",
    "\n",
    "df = pd.DataFrame(np.array([['+ load', 6, 2], ['- load', 9, 8]]),\n",
    "                   columns=['', '+ rake', '- rake'])\n",
    "\n",
    "obs=np.array([[6,2],[9,8]])\n",
    "df"
   ]
  },
  {
   "cell_type": "code",
   "execution_count": 13,
   "id": "2a921efc",
   "metadata": {},
   "outputs": [
    {
     "name": "stdout",
     "output_type": "stream",
     "text": [
      "chi2 statistic:     0.37531\n",
      "p-value:            0.54013\n",
      "degrees of freedom: 1\n",
      "expected frequencies:\n",
      "[[ 4.8  3.2]\n",
      " [10.2  6.8]]\n"
     ]
    }
   ],
   "source": [
    "chi2, p, dof, expected = chi2_contingency(obs)\n",
    "\n",
    "print(f\"chi2 statistic:     {chi2:.5g}\")\n",
    "print(f\"p-value:            {p:.5g}\")\n",
    "print(f\"degrees of freedom: {dof}\")\n",
    "print(\"expected frequencies:\")\n",
    "print(expected)"
   ]
  },
  {
   "cell_type": "markdown",
   "id": "46380184",
   "metadata": {},
   "source": [
    "## Analysis on correlation between slip and surface load"
   ]
  },
  {
   "cell_type": "code",
   "execution_count": 21,
   "id": "30d09ea3",
   "metadata": {},
   "outputs": [
    {
     "data": {
      "image/png": "[encoded data removed]",
      "text/plain": [
       "<Figure size 720x360 with 1 Axes>"
      ]
     },
     "metadata": {
      "needs_background": "light"
     },
     "output_type": "display_data"
    }
   ],
   "source": [
    "fig,ax = plt.subplots(figsize=(10,5))\n",
    "\n",
    "plot = ax.scatter(catalog.dmass, slip, alpha=0.5, c='#A2142F')\n",
    "ax.axhline(y=0,c='k')\n",
    "ax.axvline(x=0,c='k') \n",
    "ax.set_xlim([-50,50])\n",
    "ax.set_xlabel('Surface load (cm-we)', fontsize = 12)\n",
    "ax.set_ylabel(\"Vertical component of slip (m)\", fontsize = 12)\n",
    "ax.set_title(\"Correlation between surface load and slip\", fontsize = 12)\n",
    "ax.grid()"
   ]
  },
  {
   "cell_type": "code",
   "execution_count": 16,
   "id": "3a346283",
   "metadata": {},
   "outputs": [
    {
     "data": {
      "text/plain": [
       "0.013804227894749244"
      ]
     },
     "execution_count": 16,
     "metadata": {},
     "output_type": "execute_result"
    }
   ],
   "source": [
    "slope, intercept, r_value, p_value, std_err = stats.linregress(catalog.dmass, np.isnan(slip))\n",
    "r_value**2"
   ]
  },
  {
   "cell_type": "code",
   "execution_count": 17,
   "id": "abfe0350",
   "metadata": {},
   "outputs": [
    {
     "data": {
      "text/html": [
       "<div>\n",
       "<style scoped>\n",
       "    .dataframe tbody tr th:only-of-type {\n",
       "        vertical-align: middle;\n",
       "    }\n",
       "\n",
       "    .dataframe tbody tr th {\n",
       "        vertical-align: top;\n",
       "    }\n",
       "\n",
       "    .dataframe thead th {\n",
       "        text-align: right;\n",
       "    }\n",
       "</style>\n",
       "<table border=\"1\" class=\"dataframe\">\n",
       "  <thead>\n",
       "    <tr style=\"text-align: right;\">\n",
       "      <th></th>\n",
       "      <th></th>\n",
       "      <th>+ slip</th>\n",
       "      <th>- slip</th>\n",
       "    </tr>\n",
       "  </thead>\n",
       "  <tbody>\n",
       "    <tr>\n",
       "      <th>0</th>\n",
       "      <td>+ load</td>\n",
       "      <td>2</td>\n",
       "      <td>6</td>\n",
       "    </tr>\n",
       "    <tr>\n",
       "      <th>1</th>\n",
       "      <td>- load</td>\n",
       "      <td>11</td>\n",
       "      <td>6</td>\n",
       "    </tr>\n",
       "  </tbody>\n",
       "</table>\n",
       "</div>"
      ],
      "text/plain": [
       "          + slip - slip\n",
       "0  + load      2      6\n",
       "1  - load     11      6"
      ]
     },
     "execution_count": 17,
     "metadata": {},
     "output_type": "execute_result"
    }
   ],
   "source": [
    "theta=catalog.us_Mww_np1_rake\n",
    "delta=catalog.us_Mww_np1_dip\n",
    "\n",
    "df2 = pd.DataFrame(np.array([['+ load', 2, 6], ['- load', 11, 6]]),\n",
    "                   columns=['', '+ slip', '- slip'])\n",
    "\n",
    "obs2=np.array([[2,6],[11,6]])\n",
    "df2"
   ]
  },
  {
   "cell_type": "code",
   "execution_count": 18,
   "id": "e2199107",
   "metadata": {},
   "outputs": [
    {
     "name": "stdout",
     "output_type": "stream",
     "text": [
      "chi2 statistic:     2.0294\n",
      "p-value:            0.15428\n",
      "degrees of freedom: 1\n",
      "expected frequencies:\n",
      "[[4.16 3.84]\n",
      " [8.84 8.16]]\n"
     ]
    }
   ],
   "source": [
    "chi2, p, dof, expected = chi2_contingency(obs2)\n",
    "\n",
    "print(f\"chi2 statistic:     {chi2:.5g}\")\n",
    "print(f\"p-value:            {p:.5g}\")\n",
    "print(f\"degrees of freedom: {dof}\")\n",
    "print(\"expected frequencies:\")\n",
    "print(expected)"
   ]
  },
  {
   "cell_type": "code",
   "execution_count": 19,
   "id": "5e821ac3",
   "metadata": {},
   "outputs": [
    {
     "data": {
      "text/plain": [
       "26    16.459236\n",
       "43    10.581915\n",
       "Name: dmass, dtype: float64"
      ]
     },
     "execution_count": 19,
     "metadata": {},
     "output_type": "execute_result"
    }
   ],
   "source": [
    "catalog.dmass[catalog.dmass>0][slip>0]"
   ]
  },
  {
   "cell_type": "code",
   "execution_count": 20,
   "id": "45dbd6be",
   "metadata": {},
   "outputs": [
    {
     "data": {
      "text/plain": [
       "3     45.987494\n",
       "7     24.376594\n",
       "8     24.034846\n",
       "14    20.608428\n",
       "25    15.505109\n",
       "46    10.659763\n",
       "Name: dmass, dtype: float64"
      ]
     },
     "execution_count": 20,
     "metadata": {},
     "output_type": "execute_result"
    }
   ],
   "source": [
    "catalog.dmass[catalog.dmass>0][slip<0]"
   ]
  },
  {
   "cell_type": "code",
   "execution_count": null,
   "id": "47a0e3c8",
   "metadata": {},
   "outputs": [],
   "source": []
  }
 ],
 "metadata": {
  "kernelspec": {
   "display_name": "libcomcat",
   "language": "python",
   "name": "libcomcat"
  },
  "language_info": {
   "codemirror_mode": {
    "name": "ipython",
    "version": 3
   },
   "file_extension": ".py",
   "mimetype": "text/x-python",
   "name": "python",
   "nbconvert_exporter": "python",
   "pygments_lexer": "ipython3",
   "version": "3.7.12"
  }
 },
 "nbformat": 4,
 "nbformat_minor": 5
}
