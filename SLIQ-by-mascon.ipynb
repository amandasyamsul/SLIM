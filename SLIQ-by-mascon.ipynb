{
 "cells": [
  {
   "cell_type": "markdown",
   "metadata": {},
   "source": [
    "# Analysis on correlation between earthquakes and surface mass loading in individual mascons"
   ]
  },
  {
   "cell_type": "code",
   "execution_count": 264,
   "metadata": {
    "tags": []
   },
   "outputs": [
    {
     "data": {
      "text/plain": [
       "<module 'loadquakes' from '/Users/amandasyamsul/SLIQ/loadquakes.py'>"
      ]
     },
     "execution_count": 264,
     "metadata": {},
     "output_type": "execute_result"
    }
   ],
   "source": [
    "import xarray as xr\n",
    "import pandas as pd\n",
    "import matplotlib.pyplot as plt\n",
    "import numpy as np\n",
    "# from global_land_mask import globe\n",
    "import scipy.stats as stats\n",
    "import os\n",
    "import importlib\n",
    "import geopandas as gpd\n",
    "# from tqdm import tqdm\n",
    "from mpl_toolkits.axes_grid1 import make_axes_locatable\n",
    "import matplotlib.cm as cm\n",
    "import numpy.ma as ma\n",
    "\n",
    "# file containing functions:\n",
    "import loadquakes\n",
    "importlib.reload(loadquakes)"
   ]
  },
  {
   "cell_type": "code",
   "execution_count": 2,
   "metadata": {
    "tags": []
   },
   "outputs": [],
   "source": [
    "# import sys\n",
    "# !{sys.executable} -m pip install netcdf4"
   ]
  },
  {
   "cell_type": "markdown",
   "metadata": {},
   "source": [
    "## 1. Load datasets\n",
    "\n",
    "- GRACE and GRACE-FO\n",
    "- USGS earthquake catalog with ETAS probabilities"
   ]
  },
  {
   "cell_type": "code",
   "execution_count": 3,
   "metadata": {
    "tags": []
   },
   "outputs": [],
   "source": [
    "# GRACE data\n",
    "ds = xr.open_dataset(\"GRCTellus.JPL.200204_202201.GLO.RL06M.MSCNv02CRI.nc\")\n",
    "\n",
    "# Catalog of events from 2002-04-16 to 2022-1-16 with magnitude >= 5.4\n",
    "catalog = pd.read_csv('ind_and_bg_probs.csv')\n",
    "catalog[\"time\"] = catalog[\"time\"].astype(\"datetime64[ns]\")"
   ]
  },
  {
   "cell_type": "code",
   "execution_count": 4,
   "metadata": {
    "tags": []
   },
   "outputs": [],
   "source": [
    "# This is the catalog with all details from the USGS Earthquake Catalog\n",
    "\n",
    "original_catalog = pd.read_csv('19970101-20220116.csv')\n",
    "original_catalog = original_catalog[original_catalog['time']>'2002-04-16']\n",
    "original_catalog = original_catalog[original_catalog['time']<'2022-01-16']\n",
    "cat = original_catalog.reset_index()"
   ]
  },
  {
   "cell_type": "code",
   "execution_count": 5,
   "metadata": {
    "tags": []
   },
   "outputs": [],
   "source": [
    "depth = cat['depth']\n",
    "catalog['depth'] = depth"
   ]
  },
  {
   "cell_type": "markdown",
   "metadata": {},
   "source": [
    "## 2. Using Mizrahi's ETAS code, filter events that that have less than 90% chance of being triggered\n",
    "##### The mean probability of being triggered (P_triggered) for the catalog is 97.97% with a standard deviation of 9.25% . Here, we examine events that have less 90% probability of being triggered by another earthquake"
   ]
  },
  {
   "cell_type": "code",
   "execution_count": 6,
   "metadata": {
    "scrolled": true,
    "tags": []
   },
   "outputs": [],
   "source": [
    "etas_declustered = catalog[catalog['P_triggered']<.9]"
   ]
  },
  {
   "cell_type": "markdown",
   "metadata": {},
   "source": [
    "## 3. Add surface load data to the earthquake dataframes"
   ]
  },
  {
   "cell_type": "code",
   "execution_count": 7,
   "metadata": {
    "scrolled": true,
    "tags": []
   },
   "outputs": [
    {
     "name": "stderr",
     "output_type": "stream",
     "text": [
      "/var/folders/8d/yjj_j8x10pd63nrz4jt7rhrh0000gn/T/ipykernel_57364/3089949731.py:6: SettingWithCopyWarning: \n",
      "A value is trying to be set on a copy of a slice from a DataFrame.\n",
      "Try using .loc[row_indexer,col_indexer] = value instead\n",
      "\n",
      "See the caveats in the documentation: https://pandas.pydata.org/pandas-docs/stable/user_guide/indexing.html#returning-a-view-versus-a-copy\n",
      "  etas_declustered['dmass'] = etas_declustered.apply(lambda row: get_mass(row), axis=1)\n"
     ]
    }
   ],
   "source": [
    "def get_mass(eq):\n",
    "    mass_change = ds.sel(lat=(eq[\"latitude\"]),lon=(eq[\"longitude\"]),time=(eq[\"time\"]), method=\"nearest\")\n",
    "    mass_change = mass_change[\"lwe_thickness\"]\n",
    "    return mass_change.data\n",
    "  \n",
    "etas_declustered['dmass'] = etas_declustered.apply(lambda row: get_mass(row), axis=1)\n",
    "catalog['dmass'] = catalog.apply(lambda row: get_mass(row), axis=1)"
   ]
  },
  {
   "cell_type": "code",
   "execution_count": 8,
   "metadata": {},
   "outputs": [],
   "source": [
    "# etas_declustered.to_csv('etas_declustered.csv')"
   ]
  },
  {
   "cell_type": "code",
   "execution_count": 9,
   "metadata": {},
   "outputs": [],
   "source": [
    "# catalog.to_csv('catalog.csv')"
   ]
  },
  {
   "cell_type": "markdown",
   "metadata": {},
   "source": [
    "#### Are the mean/meadian values different between: 1. The whole dataset, 2. times with earthquakes, and 3. times with earthquakes that have low probability of being triggered?\n",
    "The answer appears to be: no, not really. The Bayesian analysis explains why! It's because the declustered catalog are favored at large positive AND negative surface loads. The symmetry implies that the means don't change much."
   ]
  },
  {
   "cell_type": "code",
   "execution_count": 8,
   "metadata": {
    "tags": []
   },
   "outputs": [
    {
     "name": "stdout",
     "output_type": "stream",
     "text": [
      "ETAS declustered mean:   0.441004\n",
      "ETAS declustered median: 0.284740\n",
      "Earthquake mean:   0.827411\n",
      "Earthquake median:   1.054229\n",
      "<xarray.DataArray 'lwe_thickness' ()>\n",
      "array(-0.65387518)\n",
      "<xarray.DataArray 'lwe_thickness' ()>\n",
      "array(0.7491707)\n"
     ]
    }
   ],
   "source": [
    "print('ETAS declustered mean:   %f'%etas_declustered['dmass'].mean())\n",
    "print('ETAS declustered median: %f'%etas_declustered['dmass'].median())\n",
    "\n",
    "print('Earthquake mean:   %f'%catalog['dmass'].mean())\n",
    "print('Earthquake median:   %f'%catalog['dmass'].median())\n",
    "\n",
    "print(ds.lwe_thickness.mean())\n",
    "print(ds.lwe_thickness.median())"
   ]
  },
  {
   "cell_type": "markdown",
   "metadata": {},
   "source": [
    "## 4. Analyze correlation between all events and surface mass loading"
   ]
  },
  {
   "cell_type": "code",
   "execution_count": 11,
   "metadata": {},
   "outputs": [],
   "source": [
    "# takes a long time to run (has already been run for 2002-04-16 to 2022-01-16)\n",
    "\n",
    "# loadquakes.calc_stats(np.array(catalog.dmass),np.array(ds['lwe_thickness'].data.flatten()))"
   ]
  },
  {
   "cell_type": "markdown",
   "metadata": {},
   "source": [
    "### Statistics:\n",
    "    \n",
    "- CramerVonMisesResult(statistic=18.386893296385097, pvalue=3.1430320568404113e-09),\n",
    "- KstestResult(statistic=0.05779103923331644, pvalue=6.212789284386416e-37),\n",
    "- 'median_all': 0.749170696239575,\n",
    "- 'median_eq': array(1.05422887),\n",
    "- 'mean_all': -0.65387517841372,\n",
    "- 'mean_eq': 0.8274112789242835,\n",
    "- 'mean_all_minus_mean_eq': -1.4812864573380033,\n",
    "- 'median_all_minus_median_eq': -0.30505817015141257}"
   ]
  },
  {
   "cell_type": "markdown",
   "metadata": {},
   "source": [
    "### What we previously did:\n",
    "\n",
    "Conditional probability for each event is the P(L|E) divided by P(L). The L|E are the loads at the times of an earthquake, while L are the loads at all times globally. \n",
    "\n",
    "`def get_cond_probability(all_time_periods, earthquake_only, loads, method):`\n",
    "    \n",
    "    cp,bins = calculate_bayes(earthquake_only,all_time_periods,method)\n",
    "\n",
    "    cp_for_each_event = []\n",
    "    \n",
    "    for load in loads:\n",
    "        \n",
    "        this_bin = bins[0]\n",
    "        i = 0\n",
    "        while this_bin < load:\n",
    "            if i == len(cp):\n",
    "                break\n",
    "            else:\n",
    "                i = i + 1\n",
    "                this_bin = bins[i]\n",
    "        cp_for_each_event.append(cp[i-1])\n",
    "        \n",
    "    return np.array(cp_for_each_event)\n",
    "    \n",
    "\n",
    "`def calculate_bayes(earthquake_only,all_time_periods,method):`\n",
    "\n",
    "    bins = calculate_bin_sizes(earthquake_only,method)\n",
    "\n",
    "    LgE = np.histogram(earthquake_only, bins=bins, density = True)[0]\n",
    "    L   = np.histogram(all_time_periods,bins=bins, density = True)[0]\n",
    "    cp = LgE/L\n",
    "\n",
    "    return cp, bins\n",
    "\n",
    "### What we are currently doing:\n",
    "\n",
    "Conditional probability for each event is the P(L|E) by P(L) at the mascon where the earthquake occurred. There is only one L|E taken into account for every event because we are focusing on a specific mascon, and L represents all the loads that have occurred at that specific mascon at all time periods.\n",
    "\n",
    "`def calculate_probabilities_in_mascons(all_time_periods, earthquake_only, method):`\n",
    "    \n",
    "    lat_bounds = ds['lat_bounds'].data\n",
    "    lon_bounds = ds['lon_bounds'].data\n",
    "    \n",
    "    # cp_list = []\n",
    "    LgE_list = []\n",
    "    L_list = []\n",
    "\n",
    "    # Loop through each earthquake in the catalog\n",
    "    for _, earthquake in earthquake_only.iterrows():\n",
    "        lat = earthquake['latitude']\n",
    "        lon = earthquake['longitude']\n",
    "        dmass = earthquake['dmass']\n",
    "        \n",
    "        # Find the mascon corresponding to this earthquake's lat/lon\n",
    "        lat_idx = np.searchsorted(lat_bounds[:, 0], lat) - 1  # Find the latitude index\n",
    "        lon_idx = np.searchsorted(lon_bounds[:, 0], lon) - 1  # Find the longitude index\n",
    "        \n",
    "        # Ensure lat_idx and lon_idx are within bounds\n",
    "        lat_idx = np.clip(lat_idx, 0, len(lat_bounds) - 1)\n",
    "        lon_idx = np.clip(lon_idx, 0, len(lon_bounds) - 1)\n",
    "\n",
    "        # Extract load data for the mascon (all time periods at this lat/lon)\n",
    "        lwe_grid = all_time_periods.isel(lat=lat_idx, lon=lon_idx).data.flatten()  # Flatten across time\n",
    "        \n",
    "        LgE = dmass\n",
    "        L = lwe_grid\n",
    "\n",
    "        LgE_list.append(LgE)  # P(L|E)\n",
    "        L_list.append(L)  # P(L)\n",
    "    \n",
    "    return LgE_list, L_list\n",
    "    \n",
    "    \n",
    "`def get_cp_in_mascon(loads, method):`\n",
    "    \n",
    "        bins = loadquakes.calculate_bin_sizes(LgE_list, method)\n",
    "\n",
    "        LgE = np.histogram(LgE_list, bins=bins, density=True)[0]  # Histogram of dmass (P(L|E))\n",
    "        L = np.histogram(L_list, bins=bins, density=True)[0]  # Histogram of loads (P(L))\n",
    "\n",
    "        cp = LgE/L\n",
    "\n",
    "        cp_for_each_event = []\n",
    "\n",
    "        for load in loads:\n",
    "\n",
    "            this_bin = bins[0]\n",
    "            i = 0\n",
    "            while this_bin < load:\n",
    "                if i == len(cp):\n",
    "                    break\n",
    "                else:\n",
    "                    i = i + 1\n",
    "                    this_bin = bins[i]\n",
    "            cp_for_each_event.append(cp[i-1])\n",
    "\n",
    "        return np.array(cp_for_each_event)"
   ]
  },
  {
   "cell_type": "markdown",
   "metadata": {},
   "source": [
    "## 5. Correlation between earthquakes and surface mass loading"
   ]
  },
  {
   "cell_type": "markdown",
   "metadata": {},
   "source": [
    "#### Both statistical tests produce p-values < 0.05, which indicate that the two samples are not drawn from the same distribution. This means that the distribution of surface mass load during earthquake occurrence is significantly different from background."
   ]
  },
  {
   "cell_type": "code",
   "execution_count": 389,
   "metadata": {},
   "outputs": [],
   "source": [
    "# takes a long time to run (has already been run for 2002-04-16 to 2022-01-16)\n",
    "# loadquakes.calc_stats(np.array(etas_declustered.dmass),np.array(ds['lwe_thickness'].data.flatten()))"
   ]
  },
  {
   "cell_type": "markdown",
   "metadata": {},
   "source": [
    "### Statistics\n",
    "\n",
    "- 'cvm': CramerVonMisesResult(statistic=18.38713838188511, pvalue=3.178242002910281e-09),\n",
    "- 'ks': KstestResult(statistic=0.0833189806824356, pvalue=0.0010844083570850202),\n",
    "- 'median_all': 0.749170696239575,\n",
    "- 'median_eq': array(0.2847398),\n",
    "- 'mean_all': -0.65387517841372,\n",
    "- 'mean_eq': 0.44100372833838036,\n",
    "- 'mean_all_minus_mean_eq': -1.0948789067521003,\n",
    "- 'median_all_minus_median_eq': 0.46443089594810544}"
   ]
  },
  {
   "cell_type": "code",
   "execution_count": 390,
   "metadata": {
    "tags": []
   },
   "outputs": [],
   "source": [
    "def calculate_probabilities_in_mascons(all_time_periods, earthquake_only, method):\n",
    "    \n",
    "    lat_bounds = ds['lat_bounds'].data\n",
    "    lon_bounds = ds['lon_bounds'].data\n",
    "    \n",
    "    # cp_list = []\n",
    "    LgE_list = []\n",
    "    L_list = []\n",
    "\n",
    "    # Loop through each earthquake in the catalog\n",
    "    for _, earthquake in earthquake_only.iterrows():\n",
    "        lat = earthquake['latitude']\n",
    "        lon = earthquake['longitude']\n",
    "        dmass = earthquake['dmass']\n",
    "        \n",
    "        # Find the mascon corresponding to this earthquake's lat/lon\n",
    "        lat_idx = np.searchsorted(lat_bounds[:, 0], lat) - 1  # Find the latitude index\n",
    "        lon_idx = np.searchsorted(lon_bounds[:, 0], lon) - 1  # Find the longitude index\n",
    "        \n",
    "        # Ensure lat_idx and lon_idx are within bounds\n",
    "        lat_idx = np.clip(lat_idx, 0, len(lat_bounds) - 1)\n",
    "        lon_idx = np.clip(lon_idx, 0, len(lon_bounds) - 1)\n",
    "\n",
    "        # Extract load data for the mascon (all time periods at this lat/lon)\n",
    "        lwe_grid = all_time_periods.isel(lat=lat_idx, lon=lon_idx).data.flatten()  # Flatten across time\n",
    "        \n",
    "        LgE = dmass\n",
    "        L = lwe_grid\n",
    "\n",
    "        LgE_list.append(LgE)  # P(L|E)\n",
    "        L_list.append(L)  # P(L)\n",
    "    \n",
    "    return LgE_list, L_list"
   ]
  },
  {
   "cell_type": "code",
   "execution_count": 391,
   "metadata": {
    "tags": []
   },
   "outputs": [],
   "source": [
    "def get_cp_in_mascon(loads, method):\n",
    "    \n",
    "    bins = loadquakes.calculate_bin_sizes(LgE_list, method)\n",
    "\n",
    "    LgE = np.histogram(LgE_list, bins=bins, density=True)[0]  # Histogram of dmass (P(L|E))\n",
    "    L = np.histogram(L_list, bins=bins, density=True)[0]  # Histogram of loads (P(L))\n",
    "\n",
    "    cp = LgE/L\n",
    "\n",
    "    cp_for_each_event = []\n",
    "    \n",
    "    for load in loads:\n",
    "        \n",
    "        this_bin = bins[0]\n",
    "        i = 0\n",
    "        while this_bin < load:\n",
    "            if i == len(cp):\n",
    "                break\n",
    "            else:\n",
    "                i = i + 1\n",
    "                this_bin = bins[i]\n",
    "        cp_for_each_event.append(cp[i-1])\n",
    "        \n",
    "    cp_for_each_event = np.array(cp_for_each_event)\n",
    "        \n",
    "    return cp_for_each_event, cp"
   ]
  },
  {
   "cell_type": "markdown",
   "metadata": {},
   "source": [
    "### I. ETAS declustered"
   ]
  },
  {
   "cell_type": "code",
   "execution_count": 394,
   "metadata": {
    "tags": []
   },
   "outputs": [],
   "source": [
    "LgE_list, L_list = calculate_probabilities_in_mascons(ds['lwe_thickness'], etas_declustered, method='fd')\n",
    "cp_for_each_event, cp = get_cp_in_mascon(np.array(etas_declustered.dmass), 'fd')"
   ]
  },
  {
   "cell_type": "code",
   "execution_count": 395,
   "metadata": {
    "tags": []
   },
   "outputs": [
    {
     "data": {
      "text/html": [
       "<div>\n",
       "<style scoped>\n",
       "    .dataframe tbody tr th:only-of-type {\n",
       "        vertical-align: middle;\n",
       "    }\n",
       "\n",
       "    .dataframe tbody tr th {\n",
       "        vertical-align: top;\n",
       "    }\n",
       "\n",
       "    .dataframe thead th {\n",
       "        text-align: right;\n",
       "    }\n",
       "</style>\n",
       "<table border=\"1\" class=\"dataframe\">\n",
       "  <thead>\n",
       "    <tr style=\"text-align: right;\">\n",
       "      <th></th>\n",
       "      <th>target_id</th>\n",
       "      <th>latitude</th>\n",
       "      <th>longitude</th>\n",
       "      <th>time</th>\n",
       "      <th>magnitude</th>\n",
       "      <th>geometry</th>\n",
       "      <th>mc_current</th>\n",
       "      <th>mc_current_above_ref</th>\n",
       "      <th>mu</th>\n",
       "      <th>P_triggered</th>\n",
       "      <th>P_background</th>\n",
       "      <th>zeta_plus_1</th>\n",
       "      <th>depth</th>\n",
       "      <th>dmass</th>\n",
       "      <th>cp</th>\n",
       "      <th>cp_mascon</th>\n",
       "    </tr>\n",
       "  </thead>\n",
       "  <tbody>\n",
       "    <tr>\n",
       "      <th>10</th>\n",
       "      <td>12</td>\n",
       "      <td>35.2267</td>\n",
       "      <td>31.9435</td>\n",
       "      <td>2022-01-11 01:07:48.064</td>\n",
       "      <td>6.6</td>\n",
       "      <td>POINT (35.2267 31.9435)</td>\n",
       "      <td>5.4</td>\n",
       "      <td>0.0</td>\n",
       "      <td>6.907373e-11</td>\n",
       "      <td>0.882599</td>\n",
       "      <td>0.117401</td>\n",
       "      <td>1.0</td>\n",
       "      <td>21.00</td>\n",
       "      <td>-2.2233384958655025</td>\n",
       "      <td>0.918346</td>\n",
       "      <td>0.920536</td>\n",
       "    </tr>\n",
       "    <tr>\n",
       "      <th>22</th>\n",
       "      <td>24</td>\n",
       "      <td>-65.3437</td>\n",
       "      <td>-71.5089</td>\n",
       "      <td>2022-01-05 23:24:39.238</td>\n",
       "      <td>5.7</td>\n",
       "      <td>POINT (-65.3437 -71.5089)</td>\n",
       "      <td>5.4</td>\n",
       "      <td>0.0</td>\n",
       "      <td>6.907373e-11</td>\n",
       "      <td>0.190957</td>\n",
       "      <td>0.809043</td>\n",
       "      <td>1.0</td>\n",
       "      <td>10.00</td>\n",
       "      <td>4.958630818446542</td>\n",
       "      <td>1.063731</td>\n",
       "      <td>1.136025</td>\n",
       "    </tr>\n",
       "    <tr>\n",
       "      <th>53</th>\n",
       "      <td>55</td>\n",
       "      <td>38.9211</td>\n",
       "      <td>92.6190</td>\n",
       "      <td>2021-12-18 23:54:27.150</td>\n",
       "      <td>5.4</td>\n",
       "      <td>POINT (38.9211 92.619)</td>\n",
       "      <td>5.4</td>\n",
       "      <td>0.0</td>\n",
       "      <td>6.907373e-11</td>\n",
       "      <td>0.896486</td>\n",
       "      <td>0.103514</td>\n",
       "      <td>1.0</td>\n",
       "      <td>10.00</td>\n",
       "      <td>6.793961883176484</td>\n",
       "      <td>1.461463</td>\n",
       "      <td>1.545328</td>\n",
       "    </tr>\n",
       "    <tr>\n",
       "      <th>91</th>\n",
       "      <td>93</td>\n",
       "      <td>31.7230</td>\n",
       "      <td>87.9296</td>\n",
       "      <td>2021-11-30 13:53:41.109</td>\n",
       "      <td>5.5</td>\n",
       "      <td>POINT (31.723 87.92959999999999)</td>\n",
       "      <td>5.4</td>\n",
       "      <td>0.0</td>\n",
       "      <td>6.907373e-11</td>\n",
       "      <td>0.866393</td>\n",
       "      <td>0.133607</td>\n",
       "      <td>1.0</td>\n",
       "      <td>6.77</td>\n",
       "      <td>7.550109053771179</td>\n",
       "      <td>1.461463</td>\n",
       "      <td>1.545328</td>\n",
       "    </tr>\n",
       "    <tr>\n",
       "      <th>107</th>\n",
       "      <td>109</td>\n",
       "      <td>82.1308</td>\n",
       "      <td>-17.6567</td>\n",
       "      <td>2021-11-23 12:04:19.226</td>\n",
       "      <td>5.4</td>\n",
       "      <td>POINT (82.13079999999999 -17.6567)</td>\n",
       "      <td>5.4</td>\n",
       "      <td>0.0</td>\n",
       "      <td>6.907373e-11</td>\n",
       "      <td>0.519118</td>\n",
       "      <td>0.480882</td>\n",
       "      <td>1.0</td>\n",
       "      <td>10.00</td>\n",
       "      <td>3.6251780333983366</td>\n",
       "      <td>0.969398</td>\n",
       "      <td>1.080326</td>\n",
       "    </tr>\n",
       "    <tr>\n",
       "      <th>...</th>\n",
       "      <td>...</td>\n",
       "      <td>...</td>\n",
       "      <td>...</td>\n",
       "      <td>...</td>\n",
       "      <td>...</td>\n",
       "      <td>...</td>\n",
       "      <td>...</td>\n",
       "      <td>...</td>\n",
       "      <td>...</td>\n",
       "      <td>...</td>\n",
       "      <td>...</td>\n",
       "      <td>...</td>\n",
       "      <td>...</td>\n",
       "      <td>...</td>\n",
       "      <td>...</td>\n",
       "      <td>...</td>\n",
       "    </tr>\n",
       "    <tr>\n",
       "      <th>12552</th>\n",
       "      <td>12554</td>\n",
       "      <td>86.0050</td>\n",
       "      <td>31.5950</td>\n",
       "      <td>2002-05-03 11:20:51.540</td>\n",
       "      <td>5.6</td>\n",
       "      <td>POINT (86.005 31.595)</td>\n",
       "      <td>5.4</td>\n",
       "      <td>0.0</td>\n",
       "      <td>6.907373e-11</td>\n",
       "      <td>0.285884</td>\n",
       "      <td>0.714116</td>\n",
       "      <td>1.0</td>\n",
       "      <td>10.00</td>\n",
       "      <td>-2.2577669692509024</td>\n",
       "      <td>0.918346</td>\n",
       "      <td>0.920536</td>\n",
       "    </tr>\n",
       "    <tr>\n",
       "      <th>12554</th>\n",
       "      <td>12556</td>\n",
       "      <td>1.7930</td>\n",
       "      <td>-102.0700</td>\n",
       "      <td>2002-04-28 20:16:59.340</td>\n",
       "      <td>5.6</td>\n",
       "      <td>POINT (1.793 -102.07)</td>\n",
       "      <td>5.4</td>\n",
       "      <td>0.0</td>\n",
       "      <td>6.907373e-11</td>\n",
       "      <td>0.345205</td>\n",
       "      <td>0.654795</td>\n",
       "      <td>1.0</td>\n",
       "      <td>10.00</td>\n",
       "      <td>-0.7484010941932258</td>\n",
       "      <td>1.092622</td>\n",
       "      <td>1.189902</td>\n",
       "    </tr>\n",
       "    <tr>\n",
       "      <th>12559</th>\n",
       "      <td>12561</td>\n",
       "      <td>34.6420</td>\n",
       "      <td>47.4000</td>\n",
       "      <td>2002-04-24 19:48:07.120</td>\n",
       "      <td>5.4</td>\n",
       "      <td>POINT (34.642 47.4)</td>\n",
       "      <td>5.4</td>\n",
       "      <td>0.0</td>\n",
       "      <td>6.907373e-11</td>\n",
       "      <td>0.707326</td>\n",
       "      <td>0.292674</td>\n",
       "      <td>1.0</td>\n",
       "      <td>33.00</td>\n",
       "      <td>9.932075673016389</td>\n",
       "      <td>1.146392</td>\n",
       "      <td>1.049656</td>\n",
       "    </tr>\n",
       "    <tr>\n",
       "      <th>12561</th>\n",
       "      <td>12563</td>\n",
       "      <td>42.4360</td>\n",
       "      <td>21.4660</td>\n",
       "      <td>2002-04-24 10:51:50.930</td>\n",
       "      <td>5.7</td>\n",
       "      <td>POINT (42.436 21.466)</td>\n",
       "      <td>5.4</td>\n",
       "      <td>0.0</td>\n",
       "      <td>6.907373e-11</td>\n",
       "      <td>0.656599</td>\n",
       "      <td>0.343401</td>\n",
       "      <td>1.0</td>\n",
       "      <td>10.00</td>\n",
       "      <td>-5.129024438261291</td>\n",
       "      <td>1.591540</td>\n",
       "      <td>1.188973</td>\n",
       "    </tr>\n",
       "    <tr>\n",
       "      <th>12566</th>\n",
       "      <td>12568</td>\n",
       "      <td>-20.5210</td>\n",
       "      <td>162.1850</td>\n",
       "      <td>2002-04-21 17:58:46.970</td>\n",
       "      <td>5.7</td>\n",
       "      <td>POINT (-20.521 162.185)</td>\n",
       "      <td>5.4</td>\n",
       "      <td>0.0</td>\n",
       "      <td>6.907373e-11</td>\n",
       "      <td>0.811636</td>\n",
       "      <td>0.188364</td>\n",
       "      <td>1.0</td>\n",
       "      <td>33.00</td>\n",
       "      <td>-1.0274003019036895</td>\n",
       "      <td>1.092622</td>\n",
       "      <td>1.189902</td>\n",
       "    </tr>\n",
       "  </tbody>\n",
       "</table>\n",
       "<p>537 rows × 16 columns</p>\n",
       "</div>"
      ],
      "text/plain": [
       "       target_id  latitude  longitude                    time  magnitude  \\\n",
       "10            12   35.2267    31.9435 2022-01-11 01:07:48.064        6.6   \n",
       "22            24  -65.3437   -71.5089 2022-01-05 23:24:39.238        5.7   \n",
       "53            55   38.9211    92.6190 2021-12-18 23:54:27.150        5.4   \n",
       "91            93   31.7230    87.9296 2021-11-30 13:53:41.109        5.5   \n",
       "107          109   82.1308   -17.6567 2021-11-23 12:04:19.226        5.4   \n",
       "...          ...       ...        ...                     ...        ...   \n",
       "12552      12554   86.0050    31.5950 2002-05-03 11:20:51.540        5.6   \n",
       "12554      12556    1.7930  -102.0700 2002-04-28 20:16:59.340        5.6   \n",
       "12559      12561   34.6420    47.4000 2002-04-24 19:48:07.120        5.4   \n",
       "12561      12563   42.4360    21.4660 2002-04-24 10:51:50.930        5.7   \n",
       "12566      12568  -20.5210   162.1850 2002-04-21 17:58:46.970        5.7   \n",
       "\n",
       "                                 geometry  mc_current  mc_current_above_ref  \\\n",
       "10                POINT (35.2267 31.9435)         5.4                   0.0   \n",
       "22              POINT (-65.3437 -71.5089)         5.4                   0.0   \n",
       "53                 POINT (38.9211 92.619)         5.4                   0.0   \n",
       "91       POINT (31.723 87.92959999999999)         5.4                   0.0   \n",
       "107    POINT (82.13079999999999 -17.6567)         5.4                   0.0   \n",
       "...                                   ...         ...                   ...   \n",
       "12552               POINT (86.005 31.595)         5.4                   0.0   \n",
       "12554               POINT (1.793 -102.07)         5.4                   0.0   \n",
       "12559                 POINT (34.642 47.4)         5.4                   0.0   \n",
       "12561               POINT (42.436 21.466)         5.4                   0.0   \n",
       "12566             POINT (-20.521 162.185)         5.4                   0.0   \n",
       "\n",
       "                 mu  P_triggered  P_background  zeta_plus_1  depth  \\\n",
       "10     6.907373e-11     0.882599      0.117401          1.0  21.00   \n",
       "22     6.907373e-11     0.190957      0.809043          1.0  10.00   \n",
       "53     6.907373e-11     0.896486      0.103514          1.0  10.00   \n",
       "91     6.907373e-11     0.866393      0.133607          1.0   6.77   \n",
       "107    6.907373e-11     0.519118      0.480882          1.0  10.00   \n",
       "...             ...          ...           ...          ...    ...   \n",
       "12552  6.907373e-11     0.285884      0.714116          1.0  10.00   \n",
       "12554  6.907373e-11     0.345205      0.654795          1.0  10.00   \n",
       "12559  6.907373e-11     0.707326      0.292674          1.0  33.00   \n",
       "12561  6.907373e-11     0.656599      0.343401          1.0  10.00   \n",
       "12566  6.907373e-11     0.811636      0.188364          1.0  33.00   \n",
       "\n",
       "                     dmass        cp  cp_mascon  \n",
       "10     -2.2233384958655025  0.918346   0.920536  \n",
       "22       4.958630818446542  1.063731   1.136025  \n",
       "53       6.793961883176484  1.461463   1.545328  \n",
       "91       7.550109053771179  1.461463   1.545328  \n",
       "107     3.6251780333983366  0.969398   1.080326  \n",
       "...                    ...       ...        ...  \n",
       "12552  -2.2577669692509024  0.918346   0.920536  \n",
       "12554  -0.7484010941932258  1.092622   1.189902  \n",
       "12559    9.932075673016389  1.146392   1.049656  \n",
       "12561   -5.129024438261291  1.591540   1.188973  \n",
       "12566  -1.0274003019036895  1.092622   1.189902  \n",
       "\n",
       "[537 rows x 16 columns]"
      ]
     },
     "execution_count": 395,
     "metadata": {},
     "output_type": "execute_result"
    }
   ],
   "source": [
    "etas_declustered.loc[:, 'cp_mascon'] = cp_for_each_event\n",
    "\n",
    "etas_declustered"
   ]
  },
  {
   "cell_type": "code",
   "execution_count": 396,
   "metadata": {
    "tags": []
   },
   "outputs": [
    {
     "data": {
      "image/png": "[encoded data removed]",
      "text/plain": [
       "<Figure size 640x480 with 1 Axes>"
      ]
     },
     "metadata": {},
     "output_type": "display_data"
    }
   ],
   "source": [
    "# ETAS declustered\n",
    "\n",
    "fig,ax=plt.subplots()\n",
    "plt.hist(etas_declustered.cp_mascon,11)\n",
    "plt.title('Histogram of event conditional probabilities')\n",
    "plt.yscale('log')"
   ]
  },
  {
   "cell_type": "markdown",
   "metadata": {},
   "source": [
    "#### The conditional probability will change quantitatively depending on the bin size. However, the same qualitative distribution remains, where there is a higher relative conditional probability during periods of large loading and unloading. \n",
    "\n",
    "#### Here, we calculate the Bayesian probability using two different bin sizes which are calculated via two methods:\n",
    "\n",
    "##### a. Sturge's Rule\n",
    "##### b. Freedman-Diaconis Rule\n"
   ]
  },
  {
   "cell_type": "code",
   "execution_count": 397,
   "metadata": {
    "tags": []
   },
   "outputs": [],
   "source": [
    "def plot_bayes_mascon(ax, earthquake_only, title, xlab, method, fs):\n",
    "    plt.style.use('fivethirtyeight')\n",
    "    \n",
    "    cp_for_each_event, cp = get_cp_in_mascon(earthquake_only, method)\n",
    "    bins = loadquakes.calculate_bin_sizes(LgE_list, method) \n",
    "    wid = np.mean(np.diff(bins))\n",
    "    \n",
    "    print(len(bins))\n",
    "    print(len(cp))\n",
    "    \n",
    "    ax.bar(bins[:-1], cp, width=wid, align='edge')\n",
    "\n",
    "    xl = ax.get_xlim()\n",
    "    ax.set_xlim(xl[0], xl[1] - 4.4)\n",
    "    ax.set_xlabel(xlab, fontsize=fs)\n",
    "    ax.set_ylabel('Conditional probability', fontsize=fs)\n",
    "    ax.set_title(title, fontsize=fs)"
   ]
  },
  {
   "cell_type": "code",
   "execution_count": 398,
   "metadata": {
    "tags": []
   },
   "outputs": [
    {
     "name": "stdout",
     "output_type": "stream",
     "text": [
      "21\n",
      "20\n",
      "71\n",
      "70\n"
     ]
    },
    {
     "data": {
      "image/png": "[encoded data removed]",
      "text/plain": [
       "<Figure size 1700x600 with 2 Axes>"
      ]
     },
     "metadata": {},
     "output_type": "display_data"
    }
   ],
   "source": [
    "importlib.reload(loadquakes)\n",
    "fig,(ax1,ax2) = plt.subplots(1,2, figsize=(17,6))\n",
    "\n",
    "plt.style.use('fivethirtyeight')\n",
    "\n",
    "plot_bayes_mascon(ax1, np.array(etas_declustered.dmass), \n",
    "                  \"a. Bin size calculated via Sturge's Rule\", \n",
    "                  'Surface load (cm-we)', \n",
    "                  method='Sturge', fs=12)\n",
    "\n",
    "plot_bayes_mascon(ax2, np.array(etas_declustered.dmass), \n",
    "                  \"a. Bin size calculated via Freedman-Diaconis Rule\", \n",
    "                  'Surface load (cm-we)', \n",
    "                  method='fd', fs=12)\n",
    "\n",
    "fig.tight_layout()"
   ]
  },
  {
   "cell_type": "markdown",
   "metadata": {},
   "source": [
    "### II. Full catalog"
   ]
  },
  {
   "cell_type": "code",
   "execution_count": 405,
   "metadata": {
    "tags": []
   },
   "outputs": [
    {
     "name": "stderr",
     "output_type": "stream",
     "text": [
      "/var/folders/8d/yjj_j8x10pd63nrz4jt7rhrh0000gn/T/ipykernel_57364/876446557.py:8: RuntimeWarning: invalid value encountered in divide\n",
      "  cp = LgE/L\n"
     ]
    },
    {
     "data": {
      "text/html": [
       "<div>\n",
       "<style scoped>\n",
       "    .dataframe tbody tr th:only-of-type {\n",
       "        vertical-align: middle;\n",
       "    }\n",
       "\n",
       "    .dataframe tbody tr th {\n",
       "        vertical-align: top;\n",
       "    }\n",
       "\n",
       "    .dataframe thead th {\n",
       "        text-align: right;\n",
       "    }\n",
       "</style>\n",
       "<table border=\"1\" class=\"dataframe\">\n",
       "  <thead>\n",
       "    <tr style=\"text-align: right;\">\n",
       "      <th></th>\n",
       "      <th>target_id</th>\n",
       "      <th>latitude</th>\n",
       "      <th>longitude</th>\n",
       "      <th>time</th>\n",
       "      <th>magnitude</th>\n",
       "      <th>geometry</th>\n",
       "      <th>mc_current</th>\n",
       "      <th>mc_current_above_ref</th>\n",
       "      <th>mu</th>\n",
       "      <th>P_triggered</th>\n",
       "      <th>P_background</th>\n",
       "      <th>zeta_plus_1</th>\n",
       "      <th>depth</th>\n",
       "      <th>dmass</th>\n",
       "      <th>cp</th>\n",
       "      <th>cp_mascon</th>\n",
       "    </tr>\n",
       "  </thead>\n",
       "  <tbody>\n",
       "    <tr>\n",
       "      <th>0</th>\n",
       "      <td>2</td>\n",
       "      <td>-55.5113</td>\n",
       "      <td>-128.4388</td>\n",
       "      <td>2022-01-15 18:23:04.127</td>\n",
       "      <td>5.7</td>\n",
       "      <td>POINT (-55.5113 -128.4388)</td>\n",
       "      <td>5.4</td>\n",
       "      <td>0.0</td>\n",
       "      <td>6.907373e-11</td>\n",
       "      <td>0.998822</td>\n",
       "      <td>1.178415e-03</td>\n",
       "      <td>1.0</td>\n",
       "      <td>10.00</td>\n",
       "      <td>4.971506058424656</td>\n",
       "      <td>0.939436</td>\n",
       "      <td>0.775534</td>\n",
       "    </tr>\n",
       "    <tr>\n",
       "      <th>1</th>\n",
       "      <td>3</td>\n",
       "      <td>-20.5460</td>\n",
       "      <td>-175.3900</td>\n",
       "      <td>2022-01-15 04:14:45.000</td>\n",
       "      <td>5.8</td>\n",
       "      <td>POINT (-20.546 -175.39)</td>\n",
       "      <td>5.4</td>\n",
       "      <td>0.0</td>\n",
       "      <td>6.907373e-11</td>\n",
       "      <td>0.998325</td>\n",
       "      <td>1.674875e-03</td>\n",
       "      <td>1.0</td>\n",
       "      <td>0.00</td>\n",
       "      <td>2.485465024590889</td>\n",
       "      <td>1.146643</td>\n",
       "      <td>1.065946</td>\n",
       "    </tr>\n",
       "    <tr>\n",
       "      <th>2</th>\n",
       "      <td>4</td>\n",
       "      <td>-7.0422</td>\n",
       "      <td>105.2063</td>\n",
       "      <td>2022-01-14 09:49:20.820</td>\n",
       "      <td>5.4</td>\n",
       "      <td>POINT (-7.0422 105.2063)</td>\n",
       "      <td>5.4</td>\n",
       "      <td>0.0</td>\n",
       "      <td>6.907373e-11</td>\n",
       "      <td>0.999999</td>\n",
       "      <td>6.002016e-07</td>\n",
       "      <td>1.0</td>\n",
       "      <td>34.46</td>\n",
       "      <td>0.5277498589169527</td>\n",
       "      <td>1.068970</td>\n",
       "      <td>1.047165</td>\n",
       "    </tr>\n",
       "    <tr>\n",
       "      <th>3</th>\n",
       "      <td>5</td>\n",
       "      <td>-6.8600</td>\n",
       "      <td>105.2887</td>\n",
       "      <td>2022-01-14 09:05:41.461</td>\n",
       "      <td>6.6</td>\n",
       "      <td>POINT (-6.86 105.2887)</td>\n",
       "      <td>5.4</td>\n",
       "      <td>0.0</td>\n",
       "      <td>6.907373e-11</td>\n",
       "      <td>0.996362</td>\n",
       "      <td>3.637987e-03</td>\n",
       "      <td>1.0</td>\n",
       "      <td>33.00</td>\n",
       "      <td>0.5277498589169527</td>\n",
       "      <td>1.068970</td>\n",
       "      <td>1.047165</td>\n",
       "    </tr>\n",
       "    <tr>\n",
       "      <th>4</th>\n",
       "      <td>6</td>\n",
       "      <td>-6.6002</td>\n",
       "      <td>147.3665</td>\n",
       "      <td>2022-01-12 13:16:21.730</td>\n",
       "      <td>5.6</td>\n",
       "      <td>POINT (-6.6002 147.3665)</td>\n",
       "      <td>5.4</td>\n",
       "      <td>0.0</td>\n",
       "      <td>6.907373e-11</td>\n",
       "      <td>0.998980</td>\n",
       "      <td>1.020001e-03</td>\n",
       "      <td>1.0</td>\n",
       "      <td>80.00</td>\n",
       "      <td>2.113893922464259</td>\n",
       "      <td>1.031600</td>\n",
       "      <td>0.972619</td>\n",
       "    </tr>\n",
       "    <tr>\n",
       "      <th>...</th>\n",
       "      <td>...</td>\n",
       "      <td>...</td>\n",
       "      <td>...</td>\n",
       "      <td>...</td>\n",
       "      <td>...</td>\n",
       "      <td>...</td>\n",
       "      <td>...</td>\n",
       "      <td>...</td>\n",
       "      <td>...</td>\n",
       "      <td>...</td>\n",
       "      <td>...</td>\n",
       "      <td>...</td>\n",
       "      <td>...</td>\n",
       "      <td>...</td>\n",
       "      <td>...</td>\n",
       "      <td>...</td>\n",
       "    </tr>\n",
       "    <tr>\n",
       "      <th>12568</th>\n",
       "      <td>12570</td>\n",
       "      <td>-16.3820</td>\n",
       "      <td>173.2590</td>\n",
       "      <td>2002-04-20 15:59:57.860</td>\n",
       "      <td>6.0</td>\n",
       "      <td>POINT (-16.382 173.259)</td>\n",
       "      <td>5.4</td>\n",
       "      <td>0.0</td>\n",
       "      <td>6.907373e-11</td>\n",
       "      <td>0.981736</td>\n",
       "      <td>1.826392e-02</td>\n",
       "      <td>1.0</td>\n",
       "      <td>33.00</td>\n",
       "      <td>-1.6499232850367236</td>\n",
       "      <td>0.830483</td>\n",
       "      <td>0.806029</td>\n",
       "    </tr>\n",
       "    <tr>\n",
       "      <th>12569</th>\n",
       "      <td>12571</td>\n",
       "      <td>17.2330</td>\n",
       "      <td>-101.2500</td>\n",
       "      <td>2002-04-18 17:57:27.700</td>\n",
       "      <td>5.9</td>\n",
       "      <td>POINT (17.233 -101.25)</td>\n",
       "      <td>5.4</td>\n",
       "      <td>0.0</td>\n",
       "      <td>6.907373e-11</td>\n",
       "      <td>0.999974</td>\n",
       "      <td>2.606205e-05</td>\n",
       "      <td>1.0</td>\n",
       "      <td>33.00</td>\n",
       "      <td>-2.669668663359428</td>\n",
       "      <td>0.792210</td>\n",
       "      <td>0.936323</td>\n",
       "    </tr>\n",
       "    <tr>\n",
       "      <th>12570</th>\n",
       "      <td>12572</td>\n",
       "      <td>-27.5350</td>\n",
       "      <td>-70.5860</td>\n",
       "      <td>2002-04-18 16:08:36.780</td>\n",
       "      <td>6.7</td>\n",
       "      <td>POINT (-27.535 -70.586)</td>\n",
       "      <td>5.4</td>\n",
       "      <td>0.0</td>\n",
       "      <td>6.907373e-11</td>\n",
       "      <td>0.978985</td>\n",
       "      <td>2.101521e-02</td>\n",
       "      <td>1.0</td>\n",
       "      <td>62.00</td>\n",
       "      <td>-1.9343003050948298</td>\n",
       "      <td>0.788454</td>\n",
       "      <td>0.932636</td>\n",
       "    </tr>\n",
       "    <tr>\n",
       "      <th>12571</th>\n",
       "      <td>12573</td>\n",
       "      <td>-60.6570</td>\n",
       "      <td>-25.8430</td>\n",
       "      <td>2002-04-18 14:17:23.940</td>\n",
       "      <td>5.8</td>\n",
       "      <td>POINT (-60.657 -25.843)</td>\n",
       "      <td>5.4</td>\n",
       "      <td>0.0</td>\n",
       "      <td>6.907373e-11</td>\n",
       "      <td>0.999386</td>\n",
       "      <td>6.138115e-04</td>\n",
       "      <td>1.0</td>\n",
       "      <td>10.00</td>\n",
       "      <td>-2.905379948482504</td>\n",
       "      <td>0.762105</td>\n",
       "      <td>0.914317</td>\n",
       "    </tr>\n",
       "    <tr>\n",
       "      <th>12572</th>\n",
       "      <td>12574</td>\n",
       "      <td>16.9850</td>\n",
       "      <td>-100.8650</td>\n",
       "      <td>2002-04-18 05:02:46.190</td>\n",
       "      <td>6.8</td>\n",
       "      <td>POINT (16.985 -100.865)</td>\n",
       "      <td>5.4</td>\n",
       "      <td>0.0</td>\n",
       "      <td>6.907373e-11</td>\n",
       "      <td>0.983556</td>\n",
       "      <td>1.644381e-02</td>\n",
       "      <td>1.0</td>\n",
       "      <td>24.90</td>\n",
       "      <td>-2.669668663359428</td>\n",
       "      <td>0.792210</td>\n",
       "      <td>0.936323</td>\n",
       "    </tr>\n",
       "  </tbody>\n",
       "</table>\n",
       "<p>12573 rows × 16 columns</p>\n",
       "</div>"
      ],
      "text/plain": [
       "       target_id  latitude  longitude                    time  magnitude  \\\n",
       "0              2  -55.5113  -128.4388 2022-01-15 18:23:04.127        5.7   \n",
       "1              3  -20.5460  -175.3900 2022-01-15 04:14:45.000        5.8   \n",
       "2              4   -7.0422   105.2063 2022-01-14 09:49:20.820        5.4   \n",
       "3              5   -6.8600   105.2887 2022-01-14 09:05:41.461        6.6   \n",
       "4              6   -6.6002   147.3665 2022-01-12 13:16:21.730        5.6   \n",
       "...          ...       ...        ...                     ...        ...   \n",
       "12568      12570  -16.3820   173.2590 2002-04-20 15:59:57.860        6.0   \n",
       "12569      12571   17.2330  -101.2500 2002-04-18 17:57:27.700        5.9   \n",
       "12570      12572  -27.5350   -70.5860 2002-04-18 16:08:36.780        6.7   \n",
       "12571      12573  -60.6570   -25.8430 2002-04-18 14:17:23.940        5.8   \n",
       "12572      12574   16.9850  -100.8650 2002-04-18 05:02:46.190        6.8   \n",
       "\n",
       "                         geometry  mc_current  mc_current_above_ref  \\\n",
       "0      POINT (-55.5113 -128.4388)         5.4                   0.0   \n",
       "1         POINT (-20.546 -175.39)         5.4                   0.0   \n",
       "2        POINT (-7.0422 105.2063)         5.4                   0.0   \n",
       "3          POINT (-6.86 105.2887)         5.4                   0.0   \n",
       "4        POINT (-6.6002 147.3665)         5.4                   0.0   \n",
       "...                           ...         ...                   ...   \n",
       "12568     POINT (-16.382 173.259)         5.4                   0.0   \n",
       "12569      POINT (17.233 -101.25)         5.4                   0.0   \n",
       "12570     POINT (-27.535 -70.586)         5.4                   0.0   \n",
       "12571     POINT (-60.657 -25.843)         5.4                   0.0   \n",
       "12572     POINT (16.985 -100.865)         5.4                   0.0   \n",
       "\n",
       "                 mu  P_triggered  P_background  zeta_plus_1  depth  \\\n",
       "0      6.907373e-11     0.998822  1.178415e-03          1.0  10.00   \n",
       "1      6.907373e-11     0.998325  1.674875e-03          1.0   0.00   \n",
       "2      6.907373e-11     0.999999  6.002016e-07          1.0  34.46   \n",
       "3      6.907373e-11     0.996362  3.637987e-03          1.0  33.00   \n",
       "4      6.907373e-11     0.998980  1.020001e-03          1.0  80.00   \n",
       "...             ...          ...           ...          ...    ...   \n",
       "12568  6.907373e-11     0.981736  1.826392e-02          1.0  33.00   \n",
       "12569  6.907373e-11     0.999974  2.606205e-05          1.0  33.00   \n",
       "12570  6.907373e-11     0.978985  2.101521e-02          1.0  62.00   \n",
       "12571  6.907373e-11     0.999386  6.138115e-04          1.0  10.00   \n",
       "12572  6.907373e-11     0.983556  1.644381e-02          1.0  24.90   \n",
       "\n",
       "                     dmass        cp  cp_mascon  \n",
       "0        4.971506058424656  0.939436   0.775534  \n",
       "1        2.485465024590889  1.146643   1.065946  \n",
       "2       0.5277498589169527  1.068970   1.047165  \n",
       "3       0.5277498589169527  1.068970   1.047165  \n",
       "4        2.113893922464259  1.031600   0.972619  \n",
       "...                    ...       ...        ...  \n",
       "12568  -1.6499232850367236  0.830483   0.806029  \n",
       "12569   -2.669668663359428  0.792210   0.936323  \n",
       "12570  -1.9343003050948298  0.788454   0.932636  \n",
       "12571   -2.905379948482504  0.762105   0.914317  \n",
       "12572   -2.669668663359428  0.792210   0.936323  \n",
       "\n",
       "[12573 rows x 16 columns]"
      ]
     },
     "execution_count": 405,
     "metadata": {},
     "output_type": "execute_result"
    }
   ],
   "source": [
    "LgE_list, L_list = calculate_probabilities_in_mascons(ds['lwe_thickness'], catalog, method='fd')\n",
    "cp_for_each_event, cp = get_cp_in_mascon(np.array(catalog.dmass), 'fd')\n",
    "\n",
    "catalog.loc[:, 'cp_mascon'] = cp_for_each_event\n",
    "\n",
    "catalog"
   ]
  },
  {
   "cell_type": "code",
   "execution_count": 406,
   "metadata": {
    "tags": []
   },
   "outputs": [
    {
     "data": {
      "image/png": "[encoded data removed]",
      "text/plain": [
       "<Figure size 640x480 with 1 Axes>"
      ]
     },
     "metadata": {},
     "output_type": "display_data"
    }
   ],
   "source": [
    "# full catalog\n",
    "\n",
    "fig,ax=plt.subplots()\n",
    "plt.hist(catalog.cp_mascon,11)\n",
    "plt.title('Histogram of event conditional probabilities')\n",
    "plt.yscale('log')"
   ]
  },
  {
   "cell_type": "code",
   "execution_count": 407,
   "metadata": {
    "tags": []
   },
   "outputs": [
    {
     "name": "stdout",
     "output_type": "stream",
     "text": [
      "32\n",
      "31\n"
     ]
    },
    {
     "name": "stderr",
     "output_type": "stream",
     "text": [
      "/var/folders/8d/yjj_j8x10pd63nrz4jt7rhrh0000gn/T/ipykernel_57364/876446557.py:8: RuntimeWarning: invalid value encountered in divide\n",
      "  cp = LgE/L\n"
     ]
    },
    {
     "name": "stdout",
     "output_type": "stream",
     "text": [
      "402\n",
      "401\n"
     ]
    },
    {
     "data": {
      "image/png": "[encoded data removed]",
      "text/plain": [
       "<Figure size 1700x600 with 2 Axes>"
      ]
     },
     "metadata": {},
     "output_type": "display_data"
    }
   ],
   "source": [
    "importlib.reload(loadquakes)\n",
    "fig,(ax1,ax2) = plt.subplots(1,2, figsize=(17,6))\n",
    "\n",
    "plt.style.use('fivethirtyeight')\n",
    "\n",
    "plot_bayes_mascon(ax1, np.array(catalog.dmass), \n",
    "                  \"a. Bin size calculated via Sturge's Rule\", \n",
    "                  'Surface load (cm-we)', \n",
    "                  method='Sturge', fs=12)\n",
    "\n",
    "plot_bayes_mascon(ax2, np.array(catalog.dmass), \n",
    "                  \"a. Bin size calculated via Freedman-Diaconis Rule\", \n",
    "                  'Surface load (cm-we)', \n",
    "                  method='fd', fs=12)\n",
    "\n",
    "fig.tight_layout()"
   ]
  },
  {
   "cell_type": "code",
   "execution_count": null,
   "metadata": {},
   "outputs": [],
   "source": []
  }
 ],
 "metadata": {
  "kernelspec": {
   "display_name": "Python 3 (ipykernel)",
   "language": "python",
   "name": "python3"
  },
  "language_info": {
   "codemirror_mode": {
    "name": "ipython",
    "version": 3
   },
   "file_extension": ".py",
   "mimetype": "text/x-python",
   "name": "python",
   "nbconvert_exporter": "python",
   "pygments_lexer": "ipython3",
   "version": "3.11.5"
  }
 },
 "nbformat": 4,
 "nbformat_minor": 4
}
