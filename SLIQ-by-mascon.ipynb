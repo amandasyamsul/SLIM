{
 "cells": [
  {
   "cell_type": "markdown",
   "metadata": {},
   "source": [
    "# Analysis on correlation between earthquakes and surface mass loading in individual mascons"
   ]
  },
  {
   "cell_type": "code",
   "execution_count": 1,
   "metadata": {
    "tags": []
   },
   "outputs": [
    {
     "data": {
      "text/plain": [
       "<module 'loadquakes' from '/Users/amandasyamsul/SLIQ/loadquakes.py'>"
      ]
     },
     "execution_count": 1,
     "metadata": {},
     "output_type": "execute_result"
    }
   ],
   "source": [
    "import xarray as xr\n",
    "import pandas as pd\n",
    "import matplotlib.pyplot as plt\n",
    "import numpy as np\n",
    "# from global_land_mask import globe\n",
    "import scipy.stats as stats\n",
    "import os\n",
    "import importlib\n",
    "import geopandas as gpd\n",
    "# from tqdm import tqdm\n",
    "from mpl_toolkits.axes_grid1 import make_axes_locatable\n",
    "import matplotlib.cm as cm\n",
    "import numpy.ma as ma\n",
    "\n",
    "# file containing functions:\n",
    "import loadquakes\n",
    "importlib.reload(loadquakes)"
   ]
  },
  {
   "cell_type": "code",
   "execution_count": 2,
   "metadata": {
    "tags": []
   },
   "outputs": [],
   "source": [
    "# import sys\n",
    "# !{sys.executable} -m pip install netcdf4"
   ]
  },
  {
   "cell_type": "markdown",
   "metadata": {},
   "source": [
    "## 1. Load datasets\n",
    "\n",
    "- GRACE and GRACE-FO\n",
    "- USGS earthquake catalog with ETAS probabilities"
   ]
  },
  {
   "cell_type": "code",
   "execution_count": 3,
   "metadata": {
    "tags": []
   },
   "outputs": [],
   "source": [
    "# GRACE data\n",
    "ds = xr.open_dataset(\"GRCTellus.JPL.200204_202201.GLO.RL06M.MSCNv02CRI.nc\")\n",
    "\n",
    "# Catalog of events from 2002-04-16 to 2022-1-16 with magnitude >= 5.4\n",
    "catalog = pd.read_csv('ind_and_bg_probs.csv')\n",
    "catalog[\"time\"] = catalog[\"time\"].astype(\"datetime64[ns]\")"
   ]
  },
  {
   "cell_type": "code",
   "execution_count": 4,
   "metadata": {
    "tags": []
   },
   "outputs": [],
   "source": [
    "# This is the catalog with all details from the USGS Earthquake Catalog\n",
    "\n",
    "original_catalog = pd.read_csv('19970101-20220116.csv')\n",
    "original_catalog = original_catalog[original_catalog['time']>'2002-04-16']\n",
    "original_catalog = original_catalog[original_catalog['time']<'2022-01-16']\n",
    "cat = original_catalog.reset_index()"
   ]
  },
  {
   "cell_type": "code",
   "execution_count": 5,
   "metadata": {
    "tags": []
   },
   "outputs": [],
   "source": [
    "depth = cat['depth']\n",
    "catalog['depth'] = depth"
   ]
  },
  {
   "cell_type": "markdown",
   "metadata": {},
   "source": [
    "## 2. Using Mizrahi's ETAS code, filter events that that have less than 90% chance of being triggered\n",
    "##### The mean probability of being triggered (P_triggered) for the catalog is 97.97% with a standard deviation of 9.25% . Here, we examine events that have less 90% probability of being triggered by another earthquake"
   ]
  },
  {
   "cell_type": "code",
   "execution_count": 6,
   "metadata": {
    "scrolled": true,
    "tags": []
   },
   "outputs": [],
   "source": [
    "etas_declustered = catalog[catalog['P_triggered']<.9]"
   ]
  },
  {
   "cell_type": "markdown",
   "metadata": {},
   "source": [
    "## 3. Add surface load data to the earthquake dataframes"
   ]
  },
  {
   "cell_type": "code",
   "execution_count": 61,
   "metadata": {},
   "outputs": [],
   "source": [
    "etas_declustered = pd.read_csv('etas_declustered.csv')\n",
    "catalog = pd.read_csv('catalog.csv')"
   ]
  },
  {
   "cell_type": "markdown",
   "metadata": {},
   "source": [
    "## 4. Analyze correlation between all events and surface mass loading by mascon"
   ]
  },
  {
   "cell_type": "markdown",
   "metadata": {},
   "source": [
    "### What we previously did:\n",
    "\n",
    "Conditional probability for each event is the P(L|E) divided by P(L). The L|E are the loads at the times of an earthquake, while L are the loads at all times globally. \n",
    "\n",
    "`def get_cond_probability(all_time_periods, earthquake_only, loads, method):`\n",
    "    \n",
    "    cp,bins = calculate_bayes(earthquake_only,all_time_periods,method)\n",
    "\n",
    "    cp_for_each_event = []\n",
    "    \n",
    "    for load in loads:\n",
    "        \n",
    "        this_bin = bins[0]\n",
    "        i = 0\n",
    "        while this_bin < load:\n",
    "            if i == len(cp):\n",
    "                break\n",
    "            else:\n",
    "                i = i + 1\n",
    "                this_bin = bins[i]\n",
    "        cp_for_each_event.append(cp[i-1])\n",
    "        \n",
    "    return np.array(cp_for_each_event)\n",
    "    \n",
    "\n",
    "`def calculate_bayes(earthquake_only,all_time_periods,method):`\n",
    "\n",
    "    bins = calculate_bin_sizes(earthquake_only,method)\n",
    "\n",
    "    LgE = np.histogram(earthquake_only, bins=bins, density = True)[0]\n",
    "    L   = np.histogram(all_time_periods,bins=bins, density = True)[0]\n",
    "    cp = LgE/L\n",
    "\n",
    "    return cp, bins\n"
   ]
  },
  {
   "cell_type": "markdown",
   "metadata": {},
   "source": [
    "###  This method calculates LgE and L by mascon."
   ]
  },
  {
   "cell_type": "code",
   "execution_count": 14,
   "metadata": {
    "tags": []
   },
   "outputs": [],
   "source": [
    "def calculate_probabilities_by_mascon(all_time_periods, earthquake_only, ds):\n",
    "    \n",
    "    lat_bounds = ds['lat_bounds'].data\n",
    "    lon_bounds = ds['lon_bounds'].data\n",
    "    \n",
    "    LgE_list = []\n",
    "    L_list = []\n",
    "\n",
    "    for lat_idx in range(len(lat_bounds)):\n",
    "        for lon_idx in range(len(lon_bounds)):\n",
    "            \n",
    "            lat_min, lat_max = lat_bounds[lat_idx]\n",
    "            lon_min, lon_max = lon_bounds[lon_idx]\n",
    "\n",
    "            # Find all earthquakes that fall within the current mascon bounds\n",
    "            earthquakes_in_mascon = earthquake_only[\n",
    "                (earthquake_only['latitude'] >= lat_min) &\n",
    "                (earthquake_only['latitude'] <= lat_max) &\n",
    "                (earthquake_only['longitude'] >= lon_min) &\n",
    "                (earthquake_only['longitude'] <= lon_max)\n",
    "            ]\n",
    "            \n",
    "            if len(earthquakes_in_mascon) > 0:\n",
    "                LgE_for_each = earthquakes_in_mascon['dmass'].tolist()\n",
    "            else:\n",
    "                continue  # Skip this mascon if no earthquakes are found\n",
    "\n",
    "            # Extract load data (L) for the current mascon (all time periods)\n",
    "            lwe_grid = all_time_periods.isel(lat=lat_idx, lon=lon_idx).data.flatten()\n",
    "            \n",
    "            LgE_list.append(LgE_for_each)  # P(L|E) for each mascon\n",
    "            L_list.append(lwe_grid)  # P(L) for each mascon\n",
    "\n",
    "    return LgE_list, L_list"
   ]
  },
  {
   "cell_type": "code",
   "execution_count": 114,
   "metadata": {
    "tags": []
   },
   "outputs": [],
   "source": [
    "def get_cp(LgE_list, L_list, method):\n",
    "    cp_list = []  \n",
    "    \n",
    "    bins = loadquakes.calculate_bin_sizes(LgE_list, method)\n",
    "    \n",
    "    for i in range(len(LgE_list)):\n",
    "        LgE = np.array(LgE_list[i])\n",
    "        L = np.array(L_list[i])\n",
    "\n",
    "        LgE_hist = np.histogram(LgE, bins=bins, density=True)[0] \n",
    "        L_hist = np.histogram(L, bins=bins, density=True)[0]\n",
    "\n",
    "        cp = np.divide(LgE_hist, L_hist, out=np.zeros_like(LgE_hist), where=L_hist != 0)\n",
    "\n",
    "        cp_list.append(cp)\n",
    "\n",
    "    return bins, cp_list  #  list of cps for all mascons that contain earthquakes"
   ]
  },
  {
   "cell_type": "code",
   "execution_count": 80,
   "metadata": {
    "tags": []
   },
   "outputs": [],
   "source": [
    "def aggregate_cp(cp_list):\n",
    "    \n",
    "    \"\"\"\n",
    "    Aggregates the conditional probabilities from each mascon by summing them.\n",
    "    \"\"\"\n",
    "\n",
    "    ref = len(cp_list[0])\n",
    "    aggregated_cp = np.zeros(ref)\n",
    "\n",
    "    # Loop through each mascon's cp and sum them up\n",
    "    for cp in cp_list:\n",
    "        if len(cp) == ref:\n",
    "            aggregated_cp += cp\n",
    "        else:\n",
    "            print('wrong size!')\n",
    "\n",
    "    return aggregated_cp"
   ]
  },
  {
   "cell_type": "code",
   "execution_count": 89,
   "metadata": {
    "tags": []
   },
   "outputs": [],
   "source": [
    "def assign_cp(all_time_periods, earthquake_only, cp):\n",
    "    \n",
    "    loads = earthquake_only.dmass\n",
    "    cp_for_each_event = []\n",
    "    \n",
    "    for load in loads:\n",
    "        \n",
    "        this_bin = bins[0]\n",
    "        i = 0\n",
    "        while this_bin < load:\n",
    "            if i == len(cp):\n",
    "                break\n",
    "            else:\n",
    "                i = i + 1\n",
    "                this_bin = bins[i]\n",
    "        cp_for_each_event.append(cp[i-1])\n",
    "        \n",
    "    return np.array(cp_for_each_event)"
   ]
  },
  {
   "cell_type": "markdown",
   "metadata": {},
   "source": [
    "### I. ETAS declustered"
   ]
  },
  {
   "cell_type": "code",
   "execution_count": 70,
   "metadata": {
    "tags": []
   },
   "outputs": [],
   "source": [
    "LgE_list, L_list = calculate_probabilities_by_mascon(ds['lwe_thickness'], etas_declustered, ds)"
   ]
  },
  {
   "cell_type": "code",
   "execution_count": 116,
   "metadata": {
    "tags": []
   },
   "outputs": [],
   "source": [
    "bins, cp_list = get_cp(LgE_list, L_list, 'fd')"
   ]
  },
  {
   "cell_type": "code",
   "execution_count": 118,
   "metadata": {
    "tags": []
   },
   "outputs": [],
   "source": [
    "aggregated_cp = aggregate_cp(cp_list)"
   ]
  },
  {
   "cell_type": "code",
   "execution_count": 119,
   "metadata": {
    "tags": []
   },
   "outputs": [],
   "source": [
    "cp_for_each_event = assign_cp(ds['lwe_thickness'], etas_declustered, aggregated_cp)"
   ]
  },
  {
   "cell_type": "code",
   "execution_count": 120,
   "metadata": {
    "tags": []
   },
   "outputs": [],
   "source": [
    "etas_declustered.loc[:, 'cp_by_mascon'] = cp_for_each_event"
   ]
  },
  {
   "cell_type": "code",
   "execution_count": 128,
   "metadata": {
    "tags": []
   },
   "outputs": [
    {
     "data": {
      "text/plain": [
       "Text(0.5, 1.0, 'Histogram of event conditional probabilities')"
      ]
     },
     "execution_count": 128,
     "metadata": {},
     "output_type": "execute_result"
    },
    {
     "data": {
      "image/png": "[encoded data removed]",
      "text/plain": [
       "<Figure size 640x480 with 1 Axes>"
      ]
     },
     "metadata": {},
     "output_type": "display_data"
    }
   ],
   "source": [
    "# ETAS declustered\n",
    "\n",
    "fig,ax=plt.subplots()\n",
    "plt.hist(aggregated_cp)\n",
    "plt.title('Histogram of event conditional probabilities')\n",
    "# plt.yscale('log')"
   ]
  },
  {
   "cell_type": "markdown",
   "metadata": {},
   "source": [
    "#### The conditional probability will change quantitatively depending on the bin size. However, the same qualitative distribution remains, where there is a higher relative conditional probability during periods of large loading and unloading. \n",
    "\n",
    "#### Here, we calculate the Bayesian probability using two different bin sizes which are calculated via two methods:\n",
    "\n",
    "##### a. Sturge's Rule\n",
    "##### b. Freedman-Diaconis Rule\n"
   ]
  },
  {
   "cell_type": "code",
   "execution_count": 122,
   "metadata": {
    "tags": []
   },
   "outputs": [],
   "source": [
    "def plot_bayes_mascon(ax, earthquake_only, title, xlab, method, fs):\n",
    "    plt.style.use('fivethirtyeight')\n",
    "    \n",
    "    bins = loadquakes.calculate_bin_sizes(LgE_list, method) \n",
    "    wid = np.mean(np.diff(bins))\n",
    "    \n",
    "    print(len(bins))\n",
    "    print(len(aggregated_cp))\n",
    "    \n",
    "    ax.bar(bins[:-1], aggregated_cp, width=wid, align='edge')\n",
    "\n",
    "    xl = ax.get_xlim()\n",
    "    ax.set_xlim(xl[0], xl[1] - 4.4)\n",
    "    ax.set_xlabel(xlab, fontsize=fs)\n",
    "    ax.set_ylabel('Conditional probability', fontsize=fs)\n",
    "    ax.set_title(title, fontsize=fs)\n",
    "    ax.grid"
   ]
  },
  {
   "cell_type": "code",
   "execution_count": 123,
   "metadata": {
    "tags": []
   },
   "outputs": [
    {
     "name": "stdout",
     "output_type": "stream",
     "text": [
      "48\n",
      "47\n"
     ]
    },
    {
     "data": {
      "image/png": "[encoded data removed]",
      "text/plain": [
       "<Figure size 1000x600 with 1 Axes>"
      ]
     },
     "metadata": {},
     "output_type": "display_data"
    }
   ],
   "source": [
    "importlib.reload(loadquakes)\n",
    "fig,ax = plt.subplots(figsize=(10,6))\n",
    "\n",
    "plt.style.use('fivethirtyeight')\n",
    "\n",
    "plot_bayes_mascon(ax, np.array(etas_declustered.dmass), \n",
    "                  \"a. Bin size calculated via Freedman-Diaconis Rule\", \n",
    "                  'Surface load (cm-we)', \n",
    "                  method='fd', fs=12)\n",
    "\n",
    "fig.tight_layout()"
   ]
  },
  {
   "cell_type": "markdown",
   "metadata": {},
   "source": [
    "### II. Full catalog"
   ]
  },
  {
   "cell_type": "code",
   "execution_count": 17,
   "metadata": {
    "tags": []
   },
   "outputs": [],
   "source": [
    "# LgE_list, L_list = calculate_probabilities_in_mascons(ds['lwe_thickness'], catalog, method='fd')\n",
    "# cp_for_each_event, cp = get_cp_in_mascon(np.array(catalog.dmass), 'fd')\n",
    "\n",
    "# catalog.loc[:, 'cp_mascon'] = cp_for_each_event\n",
    "\n",
    "# catalog"
   ]
  },
  {
   "cell_type": "code",
   "execution_count": 18,
   "metadata": {
    "tags": []
   },
   "outputs": [],
   "source": [
    "# full catalog\n",
    "\n",
    "# fig,ax=plt.subplots()\n",
    "# plt.hist(catalog.cp_mascon,11)\n",
    "# plt.title('Histogram of event conditional probabilities')\n",
    "# plt.yscale('log')"
   ]
  },
  {
   "cell_type": "code",
   "execution_count": 19,
   "metadata": {
    "tags": []
   },
   "outputs": [],
   "source": [
    "# importlib.reload(loadquakes)\n",
    "# fig,(ax1,ax2) = plt.subplots(1,2, figsize=(17,6))\n",
    "\n",
    "# plt.style.use('fivethirtyeight')\n",
    "\n",
    "# plot_bayes_mascon(ax1, np.array(catalog.dmass), \n",
    "#                   \"a. Bin size calculated via Sturge's Rule\", \n",
    "#                   'Surface load (cm-we)', \n",
    "#                   method='Sturge', fs=12)\n",
    "\n",
    "# plot_bayes_mascon(ax2, np.array(catalog.dmass), \n",
    "#                   \"a. Bin size calculated via Freedman-Diaconis Rule\", \n",
    "#                   'Surface load (cm-we)', \n",
    "#                   method='fd', fs=12)\n",
    "\n",
    "# fig.tight_layout()"
   ]
  },
  {
   "cell_type": "code",
   "execution_count": null,
   "metadata": {},
   "outputs": [],
   "source": []
  }
 ],
 "metadata": {
  "kernelspec": {
   "display_name": "Python 3 (ipykernel)",
   "language": "python",
   "name": "python3"
  },
  "language_info": {
   "codemirror_mode": {
    "name": "ipython",
    "version": 3
   },
   "file_extension": ".py",
   "mimetype": "text/x-python",
   "name": "python",
   "nbconvert_exporter": "python",
   "pygments_lexer": "ipython3",
   "version": "3.11.5"
  }
 },
 "nbformat": 4,
 "nbformat_minor": 4
}
